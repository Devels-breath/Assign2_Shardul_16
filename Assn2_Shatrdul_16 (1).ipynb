{
  "nbformat": 4,
  "nbformat_minor": 0,
  "metadata": {
    "colab": {
      "provenance": []
    },
    "kernelspec": {
      "name": "python3",
      "display_name": "Python 3"
    },
    "language_info": {
      "name": "python"
    }
  },
  "cells": [
    {
      "cell_type": "markdown",
      "source": [
        "Name: Shardul Pramod Karanjekar\n",
        "\n",
        "Course: Mtech Data Science\n",
        "\n",
        "Registration number: 24-27-16"
      ],
      "metadata": {
        "id": "DJ4Ze25bj65o"
      }
    },
    {
      "cell_type": "markdown",
      "source": [
        "Q1. a) Create a variable named var1 that stores an array of numbers from 0 to 30,\n",
        "inclusive. Print var1 and its shape. Hint : arange"
      ],
      "metadata": {
        "id": "bTQAZLJRgc8B"
      }
    },
    {
      "cell_type": "code",
      "execution_count": 1,
      "metadata": {
        "colab": {
          "base_uri": "https://localhost:8080/"
        },
        "id": "0dbbMR3mgPlR",
        "outputId": "c6c40b58-6805-4e89-9cb4-1b15d516e50a"
      },
      "outputs": [
        {
          "output_type": "stream",
          "name": "stdout",
          "text": [
            "[ 0  1  2  3  4  5  6  7  8  9 10 11 12 13 14 15 16 17 18 19 20 21 22 23\n",
            " 24 25 26 27 28 29] (30,)\n"
          ]
        }
      ],
      "source": [
        "import numpy as np\n",
        "var1 = np.arange(0,30)\n",
        "print(var1,var1.shape)"
      ]
    },
    {
      "cell_type": "markdown",
      "source": [
        "Q1. b) Change var1 to a validly-shaped two-dimensional matrix and store it in a\n",
        "new variable called var2. Print var2 and its shape. Hint: Use the reshape function"
      ],
      "metadata": {
        "id": "zBkFOovKg4f8"
      }
    },
    {
      "cell_type": "code",
      "source": [
        "var2 = var1.reshape((5,6))\n",
        "print(var2,var2.shape)"
      ],
      "metadata": {
        "colab": {
          "base_uri": "https://localhost:8080/"
        },
        "id": "3PxKebt2gn4e",
        "outputId": "3738b81d-16ef-4a8b-a58d-0712867d7562"
      },
      "execution_count": 2,
      "outputs": [
        {
          "output_type": "stream",
          "name": "stdout",
          "text": [
            "[[ 0  1  2  3  4  5]\n",
            " [ 6  7  8  9 10 11]\n",
            " [12 13 14 15 16 17]\n",
            " [18 19 20 21 22 23]\n",
            " [24 25 26 27 28 29]] (5, 6)\n"
          ]
        }
      ]
    },
    {
      "cell_type": "markdown",
      "source": [
        "Q1. c) Create a third variable, var3 that reshapes it into a valid three-dimensional shape.\n",
        "Print var3 and its shape."
      ],
      "metadata": {
        "id": "wAtoR26thKyM"
      }
    },
    {
      "cell_type": "code",
      "source": [
        "var3 = var1.reshape((2,3,5))\n",
        "print(var3,var3.shape)"
      ],
      "metadata": {
        "colab": {
          "base_uri": "https://localhost:8080/"
        },
        "id": "AVfKV_jghC08",
        "outputId": "4cabd706-06e1-4901-e84c-a5e1eee56854"
      },
      "execution_count": 3,
      "outputs": [
        {
          "output_type": "stream",
          "name": "stdout",
          "text": [
            "[[[ 0  1  2  3  4]\n",
            "  [ 5  6  7  8  9]\n",
            "  [10 11 12 13 14]]\n",
            "\n",
            " [[15 16 17 18 19]\n",
            "  [20 21 22 23 24]\n",
            "  [25 26 27 28 29]]] (2, 3, 5)\n"
          ]
        }
      ]
    },
    {
      "cell_type": "markdown",
      "source": [
        "Q1. d) Use two-dimensional array indexing to set the first value in the second row of var2\n",
        "to -1. Now look at var1 and var3. Did they change? Explain what’s\n",
        "going on. (Hint: does reshape return a view or a copy?)"
      ],
      "metadata": {
        "id": "lwo6-et6hYVp"
      }
    },
    {
      "cell_type": "code",
      "source": [
        "var2[1][0] = -1\n",
        "print(var1,var2,var3)"
      ],
      "metadata": {
        "colab": {
          "base_uri": "https://localhost:8080/"
        },
        "id": "80KUcUIVhSsd",
        "outputId": "cba5c40e-0cbc-44fa-ee66-ccdca2cf6982"
      },
      "execution_count": 4,
      "outputs": [
        {
          "output_type": "stream",
          "name": "stdout",
          "text": [
            "[ 0  1  2  3  4  5 -1  7  8  9 10 11 12 13 14 15 16 17 18 19 20 21 22 23\n",
            " 24 25 26 27 28 29] [[ 0  1  2  3  4  5]\n",
            " [-1  7  8  9 10 11]\n",
            " [12 13 14 15 16 17]\n",
            " [18 19 20 21 22 23]\n",
            " [24 25 26 27 28 29]] [[[ 0  1  2  3  4]\n",
            "  [ 5 -1  7  8  9]\n",
            "  [10 11 12 13 14]]\n",
            "\n",
            " [[15 16 17 18 19]\n",
            "  [20 21 22 23 24]\n",
            "  [25 26 27 28 29]]]\n"
          ]
        }
      ]
    },
    {
      "cell_type": "markdown",
      "source": [
        "Here elements of all the three variables changed because when we reshape var1 we are only getting a different view of the same array in var2 and var3. If we want it to not reflect the same changes then we need to create a copy of var1 and then reshape it."
      ],
      "metadata": {
        "id": "czqYHl5uhwaj"
      }
    },
    {
      "cell_type": "markdown",
      "source": [
        "Q1. e) Another thing that comes up a lot with array shapes is thinking about how to aggregate over specific dimensions. Figure out how the NumPy sum function\n",
        "works (and the axis argument in particular) and do the following:\n",
        "1. Sum var3 over its second dimension and print the result.\n",
        "2. Sum var3 over its third dimension and print the result.\n",
        "3.  Sum var3 over both its first and third dimensions and print the result."
      ],
      "metadata": {
        "id": "jV0NWFOckUM9"
      }
    },
    {
      "cell_type": "code",
      "source": [
        "np.sum(var3,axis=1)"
      ],
      "metadata": {
        "colab": {
          "base_uri": "https://localhost:8080/"
        },
        "id": "Zyukj9LihpQk",
        "outputId": "0e80ed5e-f91f-4524-d9f3-acab68d0e6d8"
      },
      "execution_count": 5,
      "outputs": [
        {
          "output_type": "execute_result",
          "data": {
            "text/plain": [
              "array([[15, 11, 21, 24, 27],\n",
              "       [60, 63, 66, 69, 72]])"
            ]
          },
          "metadata": {},
          "execution_count": 5
        }
      ]
    },
    {
      "cell_type": "code",
      "source": [
        "np.sum(var3,axis=2)"
      ],
      "metadata": {
        "colab": {
          "base_uri": "https://localhost:8080/"
        },
        "id": "Jv3rFMtMlEoU",
        "outputId": "53cba7da-80aa-4589-b2b4-442ba90e4c4a"
      },
      "execution_count": 6,
      "outputs": [
        {
          "output_type": "execute_result",
          "data": {
            "text/plain": [
              "array([[ 10,  28,  60],\n",
              "       [ 85, 110, 135]])"
            ]
          },
          "metadata": {},
          "execution_count": 6
        }
      ]
    },
    {
      "cell_type": "code",
      "source": [
        "np.sum(var3,axis = (0,2))"
      ],
      "metadata": {
        "colab": {
          "base_uri": "https://localhost:8080/"
        },
        "id": "xkA1YU2BlW-E",
        "outputId": "182fbfe1-e634-42aa-c66d-b15ba7f97914"
      },
      "execution_count": 7,
      "outputs": [
        {
          "output_type": "execute_result",
          "data": {
            "text/plain": [
              "array([ 95, 138, 195])"
            ]
          },
          "metadata": {},
          "execution_count": 7
        }
      ]
    },
    {
      "cell_type": "markdown",
      "source": [
        "Q1. f) Write code to do the following:\n",
        "1. Slice out the second row of var2 and print it.\n",
        "2. Slice out the last column of var2 using the -1 notation and print it.\n",
        "3. Slice out the top right 2 × 2 submatrix of var2 and print it."
      ],
      "metadata": {
        "id": "yJkMUTK7l1mK"
      }
    },
    {
      "cell_type": "code",
      "source": [
        "print(var2[1][:])\n",
        "print(var2[-4][:])\n",
        "print(var2[:2,-2:])"
      ],
      "metadata": {
        "colab": {
          "base_uri": "https://localhost:8080/"
        },
        "id": "FiitfOYxlwht",
        "outputId": "28e31169-1f8b-469e-8ca2-d5daada29313"
      },
      "execution_count": 8,
      "outputs": [
        {
          "output_type": "stream",
          "name": "stdout",
          "text": [
            "[-1  7  8  9 10 11]\n",
            "[-1  7  8  9 10 11]\n",
            "[[ 4  5]\n",
            " [10 11]]\n"
          ]
        }
      ]
    },
    {
      "cell_type": "markdown",
      "source": [
        "Q2. a) The most basic kind of broadcast is with a scalar, in which you can perform a\n",
        "binary operation (e.g., add, multiply, ...) on an array and a scalar, the effect is to\n",
        "perform that operation with the scalar for every element of the array. To try this out, create a vector 1, 2, . . . , 10 by adding 1 to the result of the arange function."
      ],
      "metadata": {
        "id": "DgiDNP5xmvT9"
      }
    },
    {
      "cell_type": "code",
      "source": [
        "vector = np.arange(10) +1\n",
        "print(vector)"
      ],
      "metadata": {
        "colab": {
          "base_uri": "https://localhost:8080/"
        },
        "id": "L6jiDbAPmBXh",
        "outputId": "0ac90e89-6ae8-4460-c5a3-1ef0d06a2dde"
      },
      "execution_count": 9,
      "outputs": [
        {
          "output_type": "stream",
          "name": "stdout",
          "text": [
            "[ 1  2  3  4  5  6  7  8  9 10]\n"
          ]
        }
      ]
    },
    {
      "cell_type": "markdown",
      "source": [
        "Q2. b) Now, create a 10 × 10 matrix A in which Ai j = i + j. You’ll be able to do this\n",
        "using the vector you just created, and adding it to a reshaped version of itself."
      ],
      "metadata": {
        "id": "7x21kr7apVJn"
      }
    },
    {
      "cell_type": "code",
      "source": [
        "row_vec = vector.reshape((1,10))\n",
        "col_vec = vector.reshape((10,1))\n",
        "\n",
        "A = row_vec + col_vec\n",
        "print(row_vec,col_vec,A)"
      ],
      "metadata": {
        "colab": {
          "base_uri": "https://localhost:8080/"
        },
        "id": "gPafeAOcpMLZ",
        "outputId": "81abecce-43ef-4510-c27a-98d0ea8f8a55"
      },
      "execution_count": 10,
      "outputs": [
        {
          "output_type": "stream",
          "name": "stdout",
          "text": [
            "[[ 1  2  3  4  5  6  7  8  9 10]] [[ 1]\n",
            " [ 2]\n",
            " [ 3]\n",
            " [ 4]\n",
            " [ 5]\n",
            " [ 6]\n",
            " [ 7]\n",
            " [ 8]\n",
            " [ 9]\n",
            " [10]] [[ 2  3  4  5  6  7  8  9 10 11]\n",
            " [ 3  4  5  6  7  8  9 10 11 12]\n",
            " [ 4  5  6  7  8  9 10 11 12 13]\n",
            " [ 5  6  7  8  9 10 11 12 13 14]\n",
            " [ 6  7  8  9 10 11 12 13 14 15]\n",
            " [ 7  8  9 10 11 12 13 14 15 16]\n",
            " [ 8  9 10 11 12 13 14 15 16 17]\n",
            " [ 9 10 11 12 13 14 15 16 17 18]\n",
            " [10 11 12 13 14 15 16 17 18 19]\n",
            " [11 12 13 14 15 16 17 18 19 20]]\n"
          ]
        }
      ]
    },
    {
      "cell_type": "markdown",
      "source": [
        "Q2. c) A very common use of broadcasting is to standardize data, i.e., to make it have\n",
        "zero mean and unit variance. First, create a fake “data set” with 50 examples,\n",
        "each with five dimensions.\n",
        "```\n",
        "import numpy.random as npr\n",
        "data = np.exp(npr.randn ( 50 , 5 ) )\n",
        "\n",
        "```\n",
        "\n"
      ],
      "metadata": {
        "id": "2MdlBu0erF7q"
      }
    },
    {
      "cell_type": "code",
      "source": [
        "import numpy.random as npr\n",
        "data = np.exp(npr.randn(50,5))\n",
        "\n",
        "stdzed_data = (data - data.mean())/data.std()\n",
        "\n",
        "print(stdzed_data)"
      ],
      "metadata": {
        "colab": {
          "base_uri": "https://localhost:8080/"
        },
        "id": "W0pLKZZTpnko",
        "outputId": "c6b59b2a-7318-42f2-889d-4eb33ec5dbfb"
      },
      "execution_count": 11,
      "outputs": [
        {
          "output_type": "stream",
          "name": "stdout",
          "text": [
            "[[-5.14698997e-01 -5.91141289e-01 -4.52882918e-01 -1.94022880e-01\n",
            "  -4.75634851e-01]\n",
            " [ 1.17182120e+00 -4.21997623e-01 -6.09242086e-01 -2.79591577e-01\n",
            "  -4.45825992e-01]\n",
            " [ 3.00122422e-01  9.74005435e-01 -5.94971634e-01 -6.02062649e-01\n",
            "  -4.28489263e-01]\n",
            " [-6.41309128e-01  1.81980802e+00 -4.15444197e-01 -1.62772358e-02\n",
            "  -4.10911209e-01]\n",
            " [-5.47366139e-01 -1.17351943e-01 -2.32623475e-01 -4.98065027e-01\n",
            "  -4.14331354e-01]\n",
            " [-1.65741268e-01 -5.08763566e-01 -1.18512556e-01  1.52639371e+00\n",
            "  -4.68488656e-01]\n",
            " [-6.52581634e-02  4.11059188e-02  7.03773151e-02 -1.75123652e-01\n",
            "  -5.93309103e-01]\n",
            " [ 1.78804500e-01 -2.71025170e-01 -1.57651694e-01 -4.52624850e-01\n",
            "  -6.52162658e-01]\n",
            " [-5.56914215e-01 -4.26486534e-01 -3.88025334e-01  5.41753117e-01\n",
            "  -5.56571567e-01]\n",
            " [ 8.78708351e+00 -3.79220720e-01 -5.71784861e-01 -3.99963840e-01\n",
            "  -6.22345787e-01]\n",
            " [ 1.82097228e-01  2.92680425e-01  1.42645203e+00  8.62400707e-01\n",
            "   8.17724188e-01]\n",
            " [-3.60690611e-01  7.49011695e-01  1.89938852e+00  5.02413639e-01\n",
            "  -4.87639364e-01]\n",
            " [ 2.92787886e-02 -2.30437463e-01 -4.03315666e-01 -5.93048532e-01\n",
            "  -5.24359293e-01]\n",
            " [-5.06651722e-01 -3.39021455e-01 -4.92395071e-01 -4.08698244e-01\n",
            "  -5.28118850e-01]\n",
            " [-4.57761544e-01 -6.69267521e-01 -6.72329087e-01 -2.26888542e-01\n",
            "   7.71619279e-01]\n",
            " [-3.70076275e-01 -2.09449956e-01 -4.06091605e-01 -1.54188316e-01\n",
            "   7.31298205e-01]\n",
            " [-3.53008742e-01 -6.41529453e-01 -1.95614003e-01 -4.93019607e-01\n",
            "  -1.56448522e-01]\n",
            " [-5.41712924e-01  2.75492188e+00  1.49782345e+00  4.53220815e+00\n",
            "  -4.74858488e-01]\n",
            " [-5.55038801e-01 -1.82973558e-01 -2.76982396e-01 -6.00443866e-01\n",
            "  -3.95130783e-01]\n",
            " [-5.88293958e-01 -5.37394254e-01 -5.13809533e-01 -2.39836500e-01\n",
            "  -4.06409460e-01]\n",
            " [ 2.59462399e-01 -5.67864939e-01  9.48120108e-01  6.49671262e-01\n",
            "  -6.07629517e-01]\n",
            " [-3.70296587e-01 -2.88022744e-01 -4.61555388e-01 -2.21093523e-01\n",
            "   2.64920905e+00]\n",
            " [-2.62753817e-01  1.78617405e-01  1.85995692e-01 -4.23938322e-01\n",
            "  -6.69568115e-01]\n",
            " [-5.93778103e-01 -2.88081554e-01  5.19836387e-02  4.65995101e-01\n",
            "  -3.14341594e-01]\n",
            " [ 3.17597264e-01 -2.90949347e-01 -9.50459761e-02 -6.10849765e-01\n",
            "   3.46443472e-02]\n",
            " [-5.95875236e-01 -5.50155430e-01  4.67118143e-01 -2.79328780e-02\n",
            "  -6.33347107e-01]\n",
            " [-5.05975439e-01 -6.15143017e-01 -6.76782219e-01 -5.48329715e-01\n",
            "  -5.73811927e-01]\n",
            " [-5.22332668e-01 -7.92755721e-02 -5.66791138e-01 -2.05463864e-01\n",
            "   6.75342051e-01]\n",
            " [ 5.86385227e-01 -3.52624695e-01 -3.81772939e-01 -4.27282517e-01\n",
            "   7.64886586e-02]\n",
            " [ 1.57109905e+00 -4.89104490e-01  8.79630274e-02  2.73642081e+00\n",
            "  -4.65411174e-02]\n",
            " [-3.60650413e-02  1.00055066e+00  7.64855436e-01 -6.29936763e-01\n",
            "  -6.59804055e-01]\n",
            " [ 1.62149225e+00 -4.11333986e-01 -5.92335913e-01 -5.70417214e-01\n",
            "   9.33320157e-01]\n",
            " [ 1.34643178e+00 -5.85373942e-01 -5.00550358e-01 -6.37838916e-01\n",
            "  -4.22763237e-01]\n",
            " [-5.35026862e-01  1.14999555e+00 -4.49336606e-01 -3.71863541e-01\n",
            "   1.87894915e+00]\n",
            " [-4.47406328e-01 -6.49997601e-01 -5.96726018e-01 -4.01788117e-01\n",
            "  -4.95870741e-01]\n",
            " [-5.71068535e-01 -6.24726627e-01 -6.53877431e-01  1.59353709e+00\n",
            "  -1.58634171e-01]\n",
            " [-4.19432679e-01 -4.74929783e-01 -4.49056390e-01 -4.02654690e-01\n",
            "  -9.81948786e-02]\n",
            " [-3.56794587e-01 -1.14734257e-01 -5.99782163e-01 -4.26905371e-01\n",
            "  -2.62174797e-01]\n",
            " [-4.91857162e-02 -1.13400453e-01  2.00492788e+00  6.94418202e-02\n",
            "   9.14099281e-02]\n",
            " [-6.24181531e-01  1.07379104e+00 -6.70437925e-01 -1.18614379e-04\n",
            "  -6.17203815e-01]\n",
            " [-6.62904331e-01 -5.81613940e-01  1.13450885e-01 -1.64382699e-01\n",
            "  -2.71166295e-01]\n",
            " [-6.44369031e-01 -2.46613552e-01 -5.61774763e-01 -3.04477923e-01\n",
            "  -5.11732734e-01]\n",
            " [ 5.67174758e-01 -3.70460346e-01  3.51910220e+00 -3.54647272e-01\n",
            "  -4.46082164e-01]\n",
            " [-3.94501552e-01 -5.92605056e-01 -4.22722132e-01 -3.68545171e-01\n",
            "  -2.47376122e-01]\n",
            " [ 1.15202915e+00 -6.50235411e-01 -6.38239892e-01 -4.27530558e-01\n",
            "  -5.77499219e-01]\n",
            " [ 1.76483998e+00 -5.18869142e-01  1.31608095e+00 -1.82274293e-01\n",
            "  -2.14063137e-01]\n",
            " [-2.93322653e-01 -2.20231597e-01 -4.07842598e-01  4.59948555e+00\n",
            "  -4.99872602e-01]\n",
            " [-1.24237698e-01 -1.42801158e-01  1.37625464e+00  1.01392902e+00\n",
            "  -4.56964852e-01]\n",
            " [-4.96014579e-01 -4.20530978e-01 -1.02644440e-01 -4.87115021e-02\n",
            "   2.19307671e+00]\n",
            " [ 5.71045013e-01  3.00579505e-01 -1.52625374e-01 -3.88589661e-01\n",
            "  -1.35990698e-01]]\n"
          ]
        }
      ]
    },
    {
      "cell_type": "markdown",
      "source": [
        "Q2. d) You don’t worry too much about what this code is doing at this stage of the course, but for completeness: it imports the NumPy random number generation\n",
        "library, then generates a 50 × 5 matrix of standard normal random variates and exponentiates them. The effect of this is to have a pretend data set of 50 independent and identically-distributed vectors from a log-normal\n",
        "distribution."
      ],
      "metadata": {
        "id": "qtbPFso4sTvP"
      }
    },
    {
      "cell_type": "markdown",
      "source": [
        "Q2. e) Now, compute the mean and standard deviation of each column. This should\n",
        "result in two vectors of length 5. You’ll need to think a little bit about how to use\n",
        "the axis argument to mean and std. Store these vectors into variables and print\n",
        "both of them."
      ],
      "metadata": {
        "id": "2Me4T1xztEnF"
      }
    },
    {
      "cell_type": "code",
      "source": [
        "col_mean = data.mean(axis=0)\n",
        "col_std = data.std(axis=0)\n",
        "print(col_mean,col_std,sep=\"\\n\")"
      ],
      "metadata": {
        "colab": {
          "base_uri": "https://localhost:8080/"
        },
        "id": "MT_-2x-2rn0M",
        "outputId": "4af75623-681f-4dc6-f5a7-83ce933d58d9"
      },
      "execution_count": 12,
      "outputs": [
        {
          "output_type": "stream",
          "name": "stdout",
          "text": [
            "[2.09500978 1.52768225 1.81774565 2.09181764 1.49305673]\n",
            "[3.5761338  1.73682264 2.21465087 2.85329873 1.84883311]\n"
          ]
        }
      ]
    },
    {
      "cell_type": "markdown",
      "source": [
        "Q2. f) Now standardize the data matrix by\n",
        "1. subtracting the mean off of each column,\n",
        "and\n",
        "2. dividing each column by its standard deviation. Do this via broadcasting,\n",
        "and store the result in a matrix called normalized.\n",
        "\n",
        "To verify that you successfully\n",
        "did it, compute the mean and standard deviation of\n",
        "the columns of normalized and print them out."
      ],
      "metadata": {
        "id": "T9avSadRtnIw"
      }
    },
    {
      "cell_type": "code",
      "source": [
        "normalized_data = (data-col_mean)/col_std\n",
        "\n",
        "norm_mean = np.mean(normalized_data)\n",
        "norm_std = np.std(normalized_data)\n",
        "print(norm_mean,norm_std)"
      ],
      "metadata": {
        "colab": {
          "base_uri": "https://localhost:8080/"
        },
        "id": "PBkuHVHCtSx2",
        "outputId": "8f0886e0-f9b1-4a72-b481-853bf2a52f66"
      },
      "execution_count": 13,
      "outputs": [
        {
          "output_type": "stream",
          "name": "stdout",
          "text": [
            "-1.5454304502782178e-16 1.0\n"
          ]
        }
      ]
    },
    {
      "cell_type": "markdown",
      "source": [
        "Q3. a) Use what you learned about broadcasting in the previous problem to write a\n",
        "function that will produce a Vandermonde matrix for a vector [1, 2, . . . ,N]T\n",
        "for\n",
        "any N. Do it without using a loop. Here’s a stub to get you started:\n",
        "```\n",
        "def vandermonde (N):\n",
        "    vec = np.arange (N) +1\n",
        "    # write your code here .\n",
        "```\n",
        "Use your function for N = 12, store it in variable named vander, and print the\n",
        "result."
      ],
      "metadata": {
        "id": "5cL1QYW82wjc"
      }
    },
    {
      "cell_type": "code",
      "source": [
        "np.vander([1,2,3,4],5)"
      ],
      "metadata": {
        "colab": {
          "base_uri": "https://localhost:8080/"
        },
        "id": "nHybUBxx3dkh",
        "outputId": "abb375e1-7758-415f-fa9d-793bbe033edf"
      },
      "execution_count": 14,
      "outputs": [
        {
          "output_type": "execute_result",
          "data": {
            "text/plain": [
              "array([[  1,   1,   1,   1,   1],\n",
              "       [ 16,   8,   4,   2,   1],\n",
              "       [ 81,  27,   9,   3,   1],\n",
              "       [256,  64,  16,   4,   1]])"
            ]
          },
          "metadata": {},
          "execution_count": 14
        }
      ]
    },
    {
      "cell_type": "code",
      "source": [
        "def vandermonde(N):\n",
        "    vec = np.arange(N) + 1\n",
        "\n",
        "    vender = vec[:,np.newaxis]**np.arange(N)\n",
        "    return vender\n",
        "\n",
        "vander = vandermonde(12)\n",
        "print(vander)"
      ],
      "metadata": {
        "colab": {
          "base_uri": "https://localhost:8080/"
        },
        "id": "FpwjAGIbvezH",
        "outputId": "0bb5e4e1-833c-4a2e-aa57-42243654742e"
      },
      "execution_count": 15,
      "outputs": [
        {
          "output_type": "stream",
          "name": "stdout",
          "text": [
            "[[           1            1            1            1            1\n",
            "             1            1            1            1            1\n",
            "             1            1]\n",
            " [           1            2            4            8           16\n",
            "            32           64          128          256          512\n",
            "          1024         2048]\n",
            " [           1            3            9           27           81\n",
            "           243          729         2187         6561        19683\n",
            "         59049       177147]\n",
            " [           1            4           16           64          256\n",
            "          1024         4096        16384        65536       262144\n",
            "       1048576      4194304]\n",
            " [           1            5           25          125          625\n",
            "          3125        15625        78125       390625      1953125\n",
            "       9765625     48828125]\n",
            " [           1            6           36          216         1296\n",
            "          7776        46656       279936      1679616     10077696\n",
            "      60466176    362797056]\n",
            " [           1            7           49          343         2401\n",
            "         16807       117649       823543      5764801     40353607\n",
            "     282475249   1977326743]\n",
            " [           1            8           64          512         4096\n",
            "         32768       262144      2097152     16777216    134217728\n",
            "    1073741824   8589934592]\n",
            " [           1            9           81          729         6561\n",
            "         59049       531441      4782969     43046721    387420489\n",
            "    3486784401  31381059609]\n",
            " [           1           10          100         1000        10000\n",
            "        100000      1000000     10000000    100000000   1000000000\n",
            "   10000000000 100000000000]\n",
            " [           1           11          121         1331        14641\n",
            "        161051      1771561     19487171    214358881   2357947691\n",
            "   25937424601 285311670611]\n",
            " [           1           12          144         1728        20736\n",
            "        248832      2985984     35831808    429981696   5159780352\n",
            "   61917364224 743008370688]]\n"
          ]
        }
      ]
    },
    {
      "cell_type": "markdown",
      "source": [
        "Q3. b) Now, let’s make a pretend linear system problem with this matrix. Create a vector\n",
        "of all ones, of length 12 and call it x. Perform a matrix-vector multiplication of\n",
        "vander with the vector you just created and store that in a new vector and call it b.\n",
        "Print the vector b."
      ],
      "metadata": {
        "id": "_SvKbHnO6ez2"
      }
    },
    {
      "cell_type": "code",
      "source": [
        "x = np.ones(12)\n",
        "b = np.matmul(vander,x)\n",
        "print(b)"
      ],
      "metadata": {
        "colab": {
          "base_uri": "https://localhost:8080/"
        },
        "id": "KzI5kBuc4Ffr",
        "outputId": "0f478ef6-12fb-468a-934c-07a4d2ad702d"
      },
      "execution_count": 16,
      "outputs": [
        {
          "output_type": "stream",
          "name": "stdout",
          "text": [
            "[1.20000000e+01 4.09500000e+03 2.65720000e+05 5.59240500e+06\n",
            " 6.10351560e+07 4.35356467e+08 2.30688120e+09 9.81706810e+09\n",
            " 3.53036921e+10 1.11111111e+11 3.13842838e+11 8.10554586e+11]\n"
          ]
        }
      ]
    },
    {
      "cell_type": "markdown",
      "source": [
        "Q3. c) First, solve the linear system the naïve way, pretending like you don’t know x.\n",
        "Import numpy.linalg, invert V and multiply it by b. Print out your result. What\n",
        "should you get for your answer? If the answer is different than what you\n",
        "expected, write a sentence about that difference."
      ],
      "metadata": {
        "id": "gxAu87h56Fn4"
      }
    },
    {
      "cell_type": "code",
      "source": [
        "from numpy.linalg import inv\n",
        "i = np.dot(inv(vander),b)\n",
        "print(i)"
      ],
      "metadata": {
        "colab": {
          "base_uri": "https://localhost:8080/"
        },
        "id": "jJR6ugtD5Ls9",
        "outputId": "ff4cfa41-4207-4895-ac02-7297b48c57b4"
      },
      "execution_count": 17,
      "outputs": [
        {
          "output_type": "stream",
          "name": "stdout",
          "text": [
            "[-12.26953125   5.90625     15.421875    -6.03515625   2.05859375\n",
            "   0.92675781   1.00244141   1.00010681   0.99997711   1.00000131\n",
            "   0.99999996   1.        ]\n"
          ]
        }
      ]
    },
    {
      "cell_type": "markdown",
      "source": [
        "Q3. d) Now, solve the same linear system using solve. Print out the result. Does it seem more or less in line with what you’d expect?"
      ],
      "metadata": {
        "id": "MkSCnm8T7kLP"
      }
    },
    {
      "cell_type": "code",
      "source": [
        "ii = np.linalg.solve(vander,b)\n",
        "print(ii)"
      ],
      "metadata": {
        "colab": {
          "base_uri": "https://localhost:8080/"
        },
        "id": "6KF1NU8A7NOM",
        "outputId": "005d2f76-9a9f-47b5-9014-1c2f4c8787e5"
      },
      "execution_count": 18,
      "outputs": [
        {
          "output_type": "stream",
          "name": "stdout",
          "text": [
            "[0.98080503 1.05139768 0.94513807 1.03151945 0.98899166 1.00248816\n",
            " 0.99962407 1.0000384  0.99999737 1.00000012 1.         1.        ]\n"
          ]
        }
      ]
    },
    {
      "cell_type": "markdown",
      "source": [
        "The solve method is generally more numerically stable and accurate than explicitly computing the inverse and multiplying. This is because solve uses more sophisticated algorithms (like LU decomposition) that are less prone to accumulation of floating-point errors."
      ],
      "metadata": {
        "id": "Lt3dRunujPAr"
      }
    },
    {
      "cell_type": "markdown",
      "source": [
        "# [Github](https://github.com/Devels-breath/Assign2_Shardul_16)"
      ],
      "metadata": {
        "id": "fLNw0qkHlNLM"
      }
    }
  ]
}