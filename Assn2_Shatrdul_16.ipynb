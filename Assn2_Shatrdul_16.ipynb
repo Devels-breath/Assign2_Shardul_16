{
  "nbformat": 4,
  "nbformat_minor": 0,
  "metadata": {
    "colab": {
      "provenance": []
    },
    "kernelspec": {
      "name": "python3",
      "display_name": "Python 3"
    },
    "language_info": {
      "name": "python"
    }
  },
  "cells": [
    {
      "cell_type": "markdown",
      "source": [
        "Name: Shardul Pramod Karanjekar\n",
        "\n",
        "Course: Mtech Data Science\n",
        "\n",
        "Registration number: 24-27-16"
      ],
      "metadata": {
        "id": "DJ4Ze25bj65o"
      }
    },
    {
      "cell_type": "markdown",
      "source": [
        "Q1. a) Create a variable named var1 that stores an array of numbers from 0 to 30,\n",
        "inclusive. Print var1 and its shape. Hint : arange"
      ],
      "metadata": {
        "id": "bTQAZLJRgc8B"
      }
    },
    {
      "cell_type": "code",
      "execution_count": 5,
      "metadata": {
        "colab": {
          "base_uri": "https://localhost:8080/"
        },
        "id": "0dbbMR3mgPlR",
        "outputId": "5886deb3-ad94-4367-9b74-71d0f5c3b2ab"
      },
      "outputs": [
        {
          "output_type": "stream",
          "name": "stdout",
          "text": [
            "[ 0  1  2  3  4  5  6  7  8  9 10 11 12 13 14 15 16 17 18 19 20 21 22 23\n",
            " 24 25 26 27 28 29 30  0] (32,)\n"
          ]
        }
      ],
      "source": [
        "import numpy as np\n",
        "var1 = np.arange(0,31)\n",
        "var1 = np.append(var1,0)\n",
        "print(var1,var1.shape)"
      ]
    },
    {
      "cell_type": "markdown",
      "source": [
        "Q1. b) Change var1 to a validly-shaped two-dimensional matrix and store it in a\n",
        "new variable called var2. Print var2 and its shape. Hint: Use the reshape function"
      ],
      "metadata": {
        "id": "zBkFOovKg4f8"
      }
    },
    {
      "cell_type": "code",
      "source": [
        "var2 = var1.reshape((16,2))\n",
        "print(var2,var2.shape)"
      ],
      "metadata": {
        "colab": {
          "base_uri": "https://localhost:8080/"
        },
        "id": "3PxKebt2gn4e",
        "outputId": "b4bb85e9-f554-4669-a1b9-05ed93a8cfd4"
      },
      "execution_count": 6,
      "outputs": [
        {
          "output_type": "stream",
          "name": "stdout",
          "text": [
            "[[ 0  1]\n",
            " [ 2  3]\n",
            " [ 4  5]\n",
            " [ 6  7]\n",
            " [ 8  9]\n",
            " [10 11]\n",
            " [12 13]\n",
            " [14 15]\n",
            " [16 17]\n",
            " [18 19]\n",
            " [20 21]\n",
            " [22 23]\n",
            " [24 25]\n",
            " [26 27]\n",
            " [28 29]\n",
            " [30  0]] (16, 2)\n"
          ]
        }
      ]
    },
    {
      "cell_type": "markdown",
      "source": [
        "Q1. c) Create a third variable, var3 that reshapes it into a valid three-dimensional shape.\n",
        "Print var3 and its shape."
      ],
      "metadata": {
        "id": "wAtoR26thKyM"
      }
    },
    {
      "cell_type": "code",
      "source": [
        "var3 = var1.reshape((4,4,2))\n",
        "print(var3,var3.shape)"
      ],
      "metadata": {
        "colab": {
          "base_uri": "https://localhost:8080/"
        },
        "id": "AVfKV_jghC08",
        "outputId": "a62e0196-e8b8-406a-8026-4323d3476dec"
      },
      "execution_count": 7,
      "outputs": [
        {
          "output_type": "stream",
          "name": "stdout",
          "text": [
            "[[[ 0  1]\n",
            "  [ 2  3]\n",
            "  [ 4  5]\n",
            "  [ 6  7]]\n",
            "\n",
            " [[ 8  9]\n",
            "  [10 11]\n",
            "  [12 13]\n",
            "  [14 15]]\n",
            "\n",
            " [[16 17]\n",
            "  [18 19]\n",
            "  [20 21]\n",
            "  [22 23]]\n",
            "\n",
            " [[24 25]\n",
            "  [26 27]\n",
            "  [28 29]\n",
            "  [30  0]]] (4, 4, 2)\n"
          ]
        }
      ]
    },
    {
      "cell_type": "markdown",
      "source": [
        "Q1. d) Use two-dimensional array indexing to set the first value in the second row of var2\n",
        "to -1. Now look at var1 and var3. Did they change? Explain what’s\n",
        "going on. (Hint: does reshape return a view or a copy?)"
      ],
      "metadata": {
        "id": "lwo6-et6hYVp"
      }
    },
    {
      "cell_type": "code",
      "source": [
        "var2[1][0] = -1\n",
        "print(var1,var2,var3)"
      ],
      "metadata": {
        "colab": {
          "base_uri": "https://localhost:8080/"
        },
        "id": "80KUcUIVhSsd",
        "outputId": "226395af-8f89-4fb9-8ed4-2ddc8e31afcf"
      },
      "execution_count": 8,
      "outputs": [
        {
          "output_type": "stream",
          "name": "stdout",
          "text": [
            "[ 0  1 -1  3  4  5  6  7  8  9 10 11 12 13 14 15 16 17 18 19 20 21 22 23\n",
            " 24 25 26 27 28 29 30  0] [[ 0  1]\n",
            " [-1  3]\n",
            " [ 4  5]\n",
            " [ 6  7]\n",
            " [ 8  9]\n",
            " [10 11]\n",
            " [12 13]\n",
            " [14 15]\n",
            " [16 17]\n",
            " [18 19]\n",
            " [20 21]\n",
            " [22 23]\n",
            " [24 25]\n",
            " [26 27]\n",
            " [28 29]\n",
            " [30  0]] [[[ 0  1]\n",
            "  [-1  3]\n",
            "  [ 4  5]\n",
            "  [ 6  7]]\n",
            "\n",
            " [[ 8  9]\n",
            "  [10 11]\n",
            "  [12 13]\n",
            "  [14 15]]\n",
            "\n",
            " [[16 17]\n",
            "  [18 19]\n",
            "  [20 21]\n",
            "  [22 23]]\n",
            "\n",
            " [[24 25]\n",
            "  [26 27]\n",
            "  [28 29]\n",
            "  [30  0]]]\n"
          ]
        }
      ]
    },
    {
      "cell_type": "markdown",
      "source": [
        "Here elements of all the three variables changed because when we reshape var1 we are only getting a different view of the same array in var2 and var3. If we want it to not reflect the same changes then we need to create a copy of var1 and then reshape it."
      ],
      "metadata": {
        "id": "czqYHl5uhwaj"
      }
    },
    {
      "cell_type": "markdown",
      "source": [
        "Q1. e) Another thing that comes up a lot with array shapes is thinking about how to aggregate over specific dimensions. Figure out how the NumPy sum function\n",
        "works (and the axis argument in particular) and do the following:\n",
        "1. Sum var3 over its second dimension and print the result.\n",
        "2. Sum var3 over its third dimension and print the result.\n",
        "3.  Sum var3 over both its first and third dimensions and print the result."
      ],
      "metadata": {
        "id": "jV0NWFOckUM9"
      }
    },
    {
      "cell_type": "code",
      "source": [
        "np.sum(var3,axis=1)"
      ],
      "metadata": {
        "colab": {
          "base_uri": "https://localhost:8080/"
        },
        "id": "Zyukj9LihpQk",
        "outputId": "66e632f3-3b7b-4ec3-c74c-d5c254cc0c7e"
      },
      "execution_count": 9,
      "outputs": [
        {
          "output_type": "execute_result",
          "data": {
            "text/plain": [
              "array([[  9,  16],\n",
              "       [ 44,  48],\n",
              "       [ 76,  80],\n",
              "       [108,  81]])"
            ]
          },
          "metadata": {},
          "execution_count": 9
        }
      ]
    },
    {
      "cell_type": "code",
      "source": [
        "np.sum(var3,axis=2)"
      ],
      "metadata": {
        "colab": {
          "base_uri": "https://localhost:8080/"
        },
        "id": "Jv3rFMtMlEoU",
        "outputId": "627e71ba-0862-4c0a-e333-efe853bf7b50"
      },
      "execution_count": 10,
      "outputs": [
        {
          "output_type": "execute_result",
          "data": {
            "text/plain": [
              "array([[ 1,  2,  9, 13],\n",
              "       [17, 21, 25, 29],\n",
              "       [33, 37, 41, 45],\n",
              "       [49, 53, 57, 30]])"
            ]
          },
          "metadata": {},
          "execution_count": 10
        }
      ]
    },
    {
      "cell_type": "code",
      "source": [
        "np.sum(var3,axis = (0,2))"
      ],
      "metadata": {
        "colab": {
          "base_uri": "https://localhost:8080/"
        },
        "id": "xkA1YU2BlW-E",
        "outputId": "18c11f78-8bb1-4931-d7f6-4db16b096003"
      },
      "execution_count": 11,
      "outputs": [
        {
          "output_type": "execute_result",
          "data": {
            "text/plain": [
              "array([100, 113, 132, 117])"
            ]
          },
          "metadata": {},
          "execution_count": 11
        }
      ]
    },
    {
      "cell_type": "markdown",
      "source": [
        "Q1. f) Write code to do the following:\n",
        "1. Slice out the second row of var2 and print it.\n",
        "2. Slice out the last column of var2 using the -1 notation and print it.\n",
        "3. Slice out the top right 2 × 2 submatrix of var2 and print it."
      ],
      "metadata": {
        "id": "yJkMUTK7l1mK"
      }
    },
    {
      "cell_type": "code",
      "source": [
        "print(var2[1])\n",
        "print(var2[:,1])\n",
        "print(var2[:2,-2:])"
      ],
      "metadata": {
        "colab": {
          "base_uri": "https://localhost:8080/"
        },
        "id": "FiitfOYxlwht",
        "outputId": "d0a32d71-ee88-43f0-a766-2c14ee831329"
      },
      "execution_count": 21,
      "outputs": [
        {
          "output_type": "stream",
          "name": "stdout",
          "text": [
            "[-1  3]\n",
            "[ 1  3  5  7  9 11 13 15 17 19 21 23 25 27 29  0]\n",
            "[[ 0  1]\n",
            " [-1  3]]\n"
          ]
        }
      ]
    },
    {
      "cell_type": "markdown",
      "source": [
        "Q2. a) The most basic kind of broadcast is with a scalar, in which you can perform a\n",
        "binary operation (e.g., add, multiply, ...) on an array and a scalar, the effect is to\n",
        "perform that operation with the scalar for every element of the array. To try this out, create a vector 1, 2, . . . , 10 by adding 1 to the result of the arange function."
      ],
      "metadata": {
        "id": "DgiDNP5xmvT9"
      }
    },
    {
      "cell_type": "code",
      "source": [
        "vector = np.arange(10)\n",
        "vector+=1\n",
        "print(vector)"
      ],
      "metadata": {
        "colab": {
          "base_uri": "https://localhost:8080/"
        },
        "id": "L6jiDbAPmBXh",
        "outputId": "9a234783-0bf2-4c71-8a3d-f8c405695a2f"
      },
      "execution_count": 22,
      "outputs": [
        {
          "output_type": "stream",
          "name": "stdout",
          "text": [
            "[ 1  2  3  4  5  6  7  8  9 10]\n"
          ]
        }
      ]
    },
    {
      "cell_type": "markdown",
      "source": [
        "Q2. b) Now, create a 10 × 10 matrix A in which Ai j = i + j. You’ll be able to do this\n",
        "using the vector you just created, and adding it to a reshaped version of itself."
      ],
      "metadata": {
        "id": "7x21kr7apVJn"
      }
    },
    {
      "cell_type": "code",
      "source": [
        "row_vec = vector.reshape((1,10))\n",
        "col_vec = vector.reshape((10,1))\n",
        "\n",
        "A = row_vec + col_vec\n",
        "print(row_vec,col_vec,A)"
      ],
      "metadata": {
        "colab": {
          "base_uri": "https://localhost:8080/"
        },
        "id": "gPafeAOcpMLZ",
        "outputId": "11742a50-9c7a-4d21-9275-4a7e0b98bf88"
      },
      "execution_count": 24,
      "outputs": [
        {
          "output_type": "stream",
          "name": "stdout",
          "text": [
            "[[ 1  2  3  4  5  6  7  8  9 10]] [[ 1]\n",
            " [ 2]\n",
            " [ 3]\n",
            " [ 4]\n",
            " [ 5]\n",
            " [ 6]\n",
            " [ 7]\n",
            " [ 8]\n",
            " [ 9]\n",
            " [10]] [[ 2  3  4  5  6  7  8  9 10 11]\n",
            " [ 3  4  5  6  7  8  9 10 11 12]\n",
            " [ 4  5  6  7  8  9 10 11 12 13]\n",
            " [ 5  6  7  8  9 10 11 12 13 14]\n",
            " [ 6  7  8  9 10 11 12 13 14 15]\n",
            " [ 7  8  9 10 11 12 13 14 15 16]\n",
            " [ 8  9 10 11 12 13 14 15 16 17]\n",
            " [ 9 10 11 12 13 14 15 16 17 18]\n",
            " [10 11 12 13 14 15 16 17 18 19]\n",
            " [11 12 13 14 15 16 17 18 19 20]]\n"
          ]
        }
      ]
    },
    {
      "cell_type": "markdown",
      "source": [
        "Q2. c) A very common use of broadcasting is to standardize data, i.e., to make it have\n",
        "zero mean and unit variance. First, create a fake “data set” with 50 examples,\n",
        "each with five dimensions.\n",
        "```\n",
        "import numpy.random as npr\n",
        "data = np.exp(npr.randn ( 50 , 5 ) )\n",
        "\n",
        "```\n",
        "\n"
      ],
      "metadata": {
        "id": "2MdlBu0erF7q"
      }
    },
    {
      "cell_type": "code",
      "source": [
        "import numpy.random as npr\n",
        "data = np.exp(npr.randn(50,5))\n",
        "\n",
        "stdzed_data = (data - data.mean())/data.std()\n",
        "\n",
        "print(stdzed_data)"
      ],
      "metadata": {
        "colab": {
          "base_uri": "https://localhost:8080/"
        },
        "id": "W0pLKZZTpnko",
        "outputId": "73129745-0ca7-4c85-f9a6-3dbae12a49c5"
      },
      "execution_count": 25,
      "outputs": [
        {
          "output_type": "stream",
          "name": "stdout",
          "text": [
            "[[-4.43603576e-01  1.01090319e-01 -6.38689717e-01 -4.63383194e-01\n",
            "   9.48331554e-02]\n",
            " [-7.23525773e-01 -1.62250909e-01 -6.42794874e-01 -3.16506820e-01\n",
            "   1.41978220e+00]\n",
            " [-9.32612232e-02  3.36219444e-01 -6.01368104e-01  6.47260836e-01\n",
            "  -5.58239253e-01]\n",
            " [-5.28975745e-01 -1.26809301e-01 -3.85837235e-02 -6.81855061e-01\n",
            "   6.52939423e-01]\n",
            " [-7.64266432e-01 -6.86350039e-01 -6.01820607e-01 -4.18553656e-02\n",
            "  -3.69611531e-01]\n",
            " [-4.01597866e-01 -3.09882887e-01 -5.30488196e-01  2.55441363e-02\n",
            "  -6.11925684e-01]\n",
            " [ 1.17556738e+00  7.28368499e-02 -5.76141954e-01  7.45240701e-01\n",
            "  -7.01348451e-01]\n",
            " [-6.25622669e-01 -2.75472105e-01 -5.05562019e-01 -2.59487413e-01\n",
            "  -6.47295839e-01]\n",
            " [-5.24446911e-01 -6.34845057e-01  6.43722895e-01 -2.79802245e-01\n",
            "  -4.75987530e-01]\n",
            " [ 6.46225561e-03 -1.30559294e-01  3.79626699e-01  8.82425190e-01\n",
            "  -6.81886256e-01]\n",
            " [-3.67957190e-01 -3.71014748e-01  8.05876420e+00 -3.99027449e-01\n",
            "  -7.44869305e-02]\n",
            " [-4.59632418e-01 -5.31347065e-01  1.36540303e+00 -4.53677101e-01\n",
            "   8.66575369e-01]\n",
            " [-1.49167422e-01  6.33735180e-01 -6.11598541e-01  3.48187798e+00\n",
            "  -5.20527678e-01]\n",
            " [ 7.13968113e-01  3.39804710e-01 -7.02329736e-01  3.88261806e-01\n",
            "  -4.33352997e-01]\n",
            " [-3.91629954e-01 -4.80487504e-01 -7.47849114e-01 -3.33845745e-02\n",
            "  -7.10762172e-01]\n",
            " [-2.91168444e-01  8.80365313e-01 -4.96347912e-01 -1.51199177e-01\n",
            "  -6.56706065e-01]\n",
            " [-3.57247558e-01  7.77782929e-02  1.03053731e-01 -5.44850701e-01\n",
            "  -1.28185619e-01]\n",
            " [-3.43261547e-01 -4.07743710e-01 -3.12576971e-01  9.00070499e-02\n",
            "   3.93055988e-01]\n",
            " [-5.90573068e-02 -5.43598452e-01  1.90432308e+00 -4.51170449e-01\n",
            "  -4.30149861e-01]\n",
            " [ 4.95672473e-02 -6.25062691e-01 -3.17537609e-01 -1.27264900e-01\n",
            "   8.07307590e-01]\n",
            " [-1.73777359e-01 -6.88851955e-01 -3.90148488e-01 -2.95792254e-01\n",
            "  -1.70428948e-01]\n",
            " [ 6.54199699e-01  4.64801359e-01  3.19117360e-01 -6.32127372e-01\n",
            "  -4.75710961e-01]\n",
            " [ 1.84414626e+00  1.99904559e-01 -5.82778668e-01 -4.14091495e-01\n",
            "  -5.90202276e-01]\n",
            " [-4.76656076e-01 -2.20357527e-01 -5.30846125e-01 -4.12513204e-01\n",
            "   3.13496647e-01]\n",
            " [ 7.69742789e-01 -4.85710488e-01  2.29305377e+00 -6.98643498e-01\n",
            "  -2.42888401e-01]\n",
            " [ 5.92742479e-01  2.15984984e+00  1.59881210e+00 -5.78835869e-01\n",
            "  -5.33130088e-01]\n",
            " [-1.69008136e-01 -5.68425113e-01  4.00819445e+00 -6.20337932e-01\n",
            "   5.37190431e-01]\n",
            " [ 8.37633321e-01 -5.97633106e-01  2.46271060e-02  8.51229250e-01\n",
            "  -5.20641863e-01]\n",
            " [-6.70702612e-01  1.39773654e+00 -5.35249238e-01 -3.02008708e-02\n",
            "  -3.60033823e-01]\n",
            " [-2.58377760e-01 -4.96500355e-01 -2.94632370e-01 -5.78441831e-01\n",
            "   3.42243678e-01]\n",
            " [-6.06324777e-01  3.75689015e-02 -4.68086319e-01 -4.32830405e-01\n",
            "  -7.10446702e-01]\n",
            " [-5.09237666e-01 -1.63167358e-01 -5.16472831e-01 -6.96301174e-01\n",
            "  -5.99939100e-01]\n",
            " [-5.14064823e-01 -3.11613939e-01 -5.19526642e-01 -1.59376006e-01\n",
            "  -6.99615369e-01]\n",
            " [-2.74236797e-01 -4.46027965e-01 -9.85040513e-02 -6.70685927e-01\n",
            "  -6.89654250e-01]\n",
            " [-6.56272667e-01  7.21331134e-01  2.29430494e+00 -2.55393366e-01\n",
            "   2.19415402e+00]\n",
            " [-4.78875899e-01  4.14795216e+00 -7.29351358e-01 -6.99461647e-01\n",
            "  -6.93260692e-01]\n",
            " [-6.20905524e-01 -5.74086544e-01 -5.12184116e-01  1.89600016e+00\n",
            "  -2.75634119e-01]\n",
            " [-6.58769200e-01 -4.25896883e-01 -9.71777363e-02 -1.45333516e-01\n",
            "  -5.85445854e-01]\n",
            " [-5.85698110e-01  9.01206614e-02 -3.56275826e-01  2.71263378e+00\n",
            "  -6.98539910e-01]\n",
            " [-5.04305001e-01 -5.45464968e-01 -4.74922610e-02 -2.37684949e-01\n",
            "   1.19172241e+00]\n",
            " [-5.74251978e-01 -2.72300123e-01 -7.57207113e-01 -6.99001364e-01\n",
            "  -6.06646529e-01]\n",
            " [-4.87154859e-02 -5.27828128e-01 -4.51529081e-01  7.66426264e-01\n",
            "  -6.07363782e-01]\n",
            " [-6.74106710e-01 -6.80819558e-01  1.89819161e-01 -1.32912185e-01\n",
            "  -3.10929928e-01]\n",
            " [ 1.31414859e+00 -7.29252092e-01  8.19790214e-01 -3.54306279e-01\n",
            "   1.06626975e-01]\n",
            " [ 8.39219650e-01 -3.67202858e-01  5.14109762e-02  1.54628931e-01\n",
            "   1.92543036e-01]\n",
            " [ 5.49814581e-01 -2.00423008e-01 -3.57114694e-01 -3.80430022e-01\n",
            "   2.27256361e+00]\n",
            " [-1.06572240e-01  1.23054777e-02 -4.14367676e-01  1.69021689e+00\n",
            "  -6.22187382e-03]\n",
            " [ 4.93319337e+00 -2.19770350e-01 -9.04344493e-03 -5.09982488e-01\n",
            "  -4.90969345e-01]\n",
            " [-6.40581308e-01  3.50658263e-01 -7.23115462e-01  1.39215358e-01\n",
            "  -6.22250398e-01]\n",
            " [-1.48899442e-01  2.34918794e-01  1.22089433e+00 -7.28427638e-01\n",
            "  -2.16998361e-01]]\n"
          ]
        }
      ]
    },
    {
      "cell_type": "markdown",
      "source": [
        "Q2. d) You don’t worry too much about what this code is doing at this stage of the course, but for completeness: it imports the NumPy random number generation\n",
        "library, then generates a 50 × 5 matrix of standard normal random variates and exponentiates them. The effect of this is to have a pretend data set of 50 independent and identically-distributed vectors from a log-normal\n",
        "distribution."
      ],
      "metadata": {
        "id": "qtbPFso4sTvP"
      }
    },
    {
      "cell_type": "markdown",
      "source": [
        "Q2. e) Now, compute the mean and standard deviation of each column. This should\n",
        "result in two vectors of length 5. You’ll need to think a little bit about how to use\n",
        "the axis argument to mean and std. Store these vectors into variables and print\n",
        "both of them."
      ],
      "metadata": {
        "id": "2Me4T1xztEnF"
      }
    },
    {
      "cell_type": "code",
      "source": [
        "col_mean = data.mean(axis=0)\n",
        "col_std = data.std(axis=0)\n",
        "print(col_mean,col_std,sep=\"\\n\")"
      ],
      "metadata": {
        "colab": {
          "base_uri": "https://localhost:8080/"
        },
        "id": "MT_-2x-2rn0M",
        "outputId": "eb3f146b-3246-46fd-ee44-d4b9f8eaa023"
      },
      "execution_count": 26,
      "outputs": [
        {
          "output_type": "stream",
          "name": "stdout",
          "text": [
            "[1.64262067 1.64465829 2.13059383 1.70818616 1.43578445]\n",
            "[2.02232889 1.78142018 3.2348227  1.87532742 1.55474394]\n"
          ]
        }
      ]
    },
    {
      "cell_type": "markdown",
      "source": [
        "Q2. f) Now standardize the data matrix by\n",
        "1. subtracting the mean off of each column,\n",
        "and\n",
        "2. dividing each column by its standard deviation. Do this via broadcasting,\n",
        "and store the result in a matrix called normalized.\n",
        "\n",
        "To verify that you successfully\n",
        "did it, compute the mean and standard deviation of\n",
        "the columns of normalized and print them out."
      ],
      "metadata": {
        "id": "T9avSadRtnIw"
      }
    },
    {
      "cell_type": "code",
      "source": [
        "normalized_data = (data-col_mean)/col_std\n",
        "\n",
        "norm_mean = np.mean(normalized_data)\n",
        "norm_std = np.std(normalized_data)\n",
        "print(norm_mean,norm_std)"
      ],
      "metadata": {
        "colab": {
          "base_uri": "https://localhost:8080/"
        },
        "id": "PBkuHVHCtSx2",
        "outputId": "b78142f8-489a-489c-e0c3-12b6b6fb87f1"
      },
      "execution_count": 27,
      "outputs": [
        {
          "output_type": "stream",
          "name": "stdout",
          "text": [
            "-2.3092638912203257e-16 0.9999999999999999\n"
          ]
        }
      ]
    },
    {
      "cell_type": "markdown",
      "source": [
        "Q3. a) Use what you learned about broadcasting in the previous problem to write a\n",
        "function that will produce a Vandermonde matrix for a vector [1, 2, . . . ,N]T\n",
        "for\n",
        "any N. Do it without using a loop. Here’s a stub to get you started:\n",
        "```\n",
        "def vandermonde (N):\n",
        "    vec = np.arange (N) +1\n",
        "    # write your code here .\n",
        "```\n",
        "Use your function for N = 12, store it in variable named vander, and print the\n",
        "result."
      ],
      "metadata": {
        "id": "5cL1QYW82wjc"
      }
    },
    {
      "cell_type": "code",
      "source": [
        "def vandermonde(N):\n",
        "    vec = np.arange(N) + 1\n",
        "\n",
        "    vender = vec[:,np.newaxis]**np.arange(N)\n",
        "    return vender\n",
        "\n",
        "vander = vandermonde(12)\n",
        "print(vander)"
      ],
      "metadata": {
        "colab": {
          "base_uri": "https://localhost:8080/"
        },
        "id": "FpwjAGIbvezH",
        "outputId": "4fd827b4-7f85-4c27-a99e-a4721798fc93"
      },
      "execution_count": 29,
      "outputs": [
        {
          "output_type": "stream",
          "name": "stdout",
          "text": [
            "[[           1            1            1            1            1\n",
            "             1            1            1            1            1\n",
            "             1            1]\n",
            " [           1            2            4            8           16\n",
            "            32           64          128          256          512\n",
            "          1024         2048]\n",
            " [           1            3            9           27           81\n",
            "           243          729         2187         6561        19683\n",
            "         59049       177147]\n",
            " [           1            4           16           64          256\n",
            "          1024         4096        16384        65536       262144\n",
            "       1048576      4194304]\n",
            " [           1            5           25          125          625\n",
            "          3125        15625        78125       390625      1953125\n",
            "       9765625     48828125]\n",
            " [           1            6           36          216         1296\n",
            "          7776        46656       279936      1679616     10077696\n",
            "      60466176    362797056]\n",
            " [           1            7           49          343         2401\n",
            "         16807       117649       823543      5764801     40353607\n",
            "     282475249   1977326743]\n",
            " [           1            8           64          512         4096\n",
            "         32768       262144      2097152     16777216    134217728\n",
            "    1073741824   8589934592]\n",
            " [           1            9           81          729         6561\n",
            "         59049       531441      4782969     43046721    387420489\n",
            "    3486784401  31381059609]\n",
            " [           1           10          100         1000        10000\n",
            "        100000      1000000     10000000    100000000   1000000000\n",
            "   10000000000 100000000000]\n",
            " [           1           11          121         1331        14641\n",
            "        161051      1771561     19487171    214358881   2357947691\n",
            "   25937424601 285311670611]\n",
            " [           1           12          144         1728        20736\n",
            "        248832      2985984     35831808    429981696   5159780352\n",
            "   61917364224 743008370688]]\n"
          ]
        }
      ]
    },
    {
      "cell_type": "markdown",
      "source": [
        "Q3. b) Now, let’s make a pretend linear system problem with this matrix. Create a vector\n",
        "of all ones, of length 12 and call it x. Perform a matrix-vector multiplication of\n",
        "vander with the vector you just created and store that in a new vector and call it b.\n",
        "Print the vector b."
      ],
      "metadata": {
        "id": "_SvKbHnO6ez2"
      }
    },
    {
      "cell_type": "code",
      "source": [
        "x = np.ones(12)\n",
        "b = np.matmul(vander,x)\n",
        "print(b)"
      ],
      "metadata": {
        "colab": {
          "base_uri": "https://localhost:8080/"
        },
        "id": "KzI5kBuc4Ffr",
        "outputId": "feb3b46a-c47c-42ab-d9bb-889fb888b752"
      },
      "execution_count": 30,
      "outputs": [
        {
          "output_type": "stream",
          "name": "stdout",
          "text": [
            "[1.20000000e+01 4.09500000e+03 2.65720000e+05 5.59240500e+06\n",
            " 6.10351560e+07 4.35356467e+08 2.30688120e+09 9.81706810e+09\n",
            " 3.53036921e+10 1.11111111e+11 3.13842838e+11 8.10554586e+11]\n"
          ]
        }
      ]
    },
    {
      "cell_type": "markdown",
      "source": [
        "Q3. c) First, solve the linear system the naïve way, pretending like you don’t know x.\n",
        "Import numpy.linalg, invert V and multiply it by b. Print out your result. What\n",
        "should you get for your answer? If the answer is different than what you\n",
        "expected, write a sentence about that difference."
      ],
      "metadata": {
        "id": "gxAu87h56Fn4"
      }
    },
    {
      "cell_type": "code",
      "source": [
        "from numpy.linalg import inv\n",
        "i = np.dot(inv(vander),b)\n",
        "print(i)"
      ],
      "metadata": {
        "colab": {
          "base_uri": "https://localhost:8080/"
        },
        "id": "jJR6ugtD5Ls9",
        "outputId": "783b0005-4bd8-42eb-bc0c-7e70d04e9897"
      },
      "execution_count": 31,
      "outputs": [
        {
          "output_type": "stream",
          "name": "stdout",
          "text": [
            "[-12.26953125   5.90625     15.421875    -6.03515625   2.05859375\n",
            "   0.92675781   1.00244141   1.00010681   0.99997711   1.00000131\n",
            "   0.99999996   1.        ]\n"
          ]
        }
      ]
    },
    {
      "cell_type": "markdown",
      "source": [
        "Q3. d) Now, solve the same linear system using solve. Print out the result. Does it seem more or less in line with what you’d expect?"
      ],
      "metadata": {
        "id": "MkSCnm8T7kLP"
      }
    },
    {
      "cell_type": "code",
      "source": [
        "ii = np.linalg.solve(vander,b)\n",
        "print(ii)"
      ],
      "metadata": {
        "colab": {
          "base_uri": "https://localhost:8080/"
        },
        "id": "6KF1NU8A7NOM",
        "outputId": "e1ccfb44-41bd-48a7-9d19-0dbca1e86fd6"
      },
      "execution_count": 32,
      "outputs": [
        {
          "output_type": "stream",
          "name": "stdout",
          "text": [
            "[0.98080503 1.05139768 0.94513807 1.03151945 0.98899166 1.00248816\n",
            " 0.99962407 1.0000384  0.99999737 1.00000012 1.         1.        ]\n"
          ]
        }
      ]
    },
    {
      "cell_type": "markdown",
      "source": [
        "The solve method is generally more numerically stable and accurate than explicitly computing the inverse and multiplying. This is because solve uses more sophisticated algorithms (like LU decomposition) that are less prone to accumulation of floating-point errors."
      ],
      "metadata": {
        "id": "Lt3dRunujPAr"
      }
    },
    {
      "cell_type": "markdown",
      "source": [
        "# [Github](https://github.com/Devels-breath/Assign2_Shardul_16)"
      ],
      "metadata": {
        "id": "fLNw0qkHlNLM"
      }
    }
  ]
}